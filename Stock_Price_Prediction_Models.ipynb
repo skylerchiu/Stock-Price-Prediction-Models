{
  "nbformat": 4,
  "nbformat_minor": 0,
  "metadata": {
    "colab": {
      "name": "Stock Price Prediction Models",
      "provenance": []
    },
    "kernelspec": {
      "name": "python3",
      "display_name": "Python 3"
    },
    "language_info": {
      "name": "python"
    }
  },
  "cells": [
    {
      "cell_type": "code",
      "execution_count": 4,
      "metadata": {
        "id": "1n6BIKSA8V0g"
      },
      "outputs": [],
      "source": [
        "import pandas as pd\n",
        "import yfinance as yf\n",
        "from sklearn.tree import DecisionTreeClassifier\n",
        "from sklearn.linear_model import LinearRegression\n",
        "from sklearn.model_selection import train_test_split\n",
        "import matplotlib.pyplot as plt\n",
        "import numpy as np\n",
        "import tensorflow as tf\n",
        "from tensorflow.keras.models import Sequential\n",
        "from tensorflow.keras.layers import Dense\n",
        "from tensorflow.keras.layers import LSTM\n",
        "from sklearn.preprocessing import MinMaxScaler\n",
        "from sklearn.metrics import mean_squared_error"
      ]
    },
    {
      "cell_type": "code",
      "source": [
        "pip install yfinance"
      ],
      "metadata": {
        "id": "ZWNgkSjZ9kVj"
      },
      "execution_count": null,
      "outputs": []
    },
    {
      "cell_type": "code",
      "source": [
        "#@title Linear Regression\n",
        "import warnings\n",
        "warnings.filterwarnings(\"ignore\")\n",
        "data = yf.download(tickers='TSLA', #period: The number of days/month of data required. The valid frequencies are 1d, 5d, 1mo, 3mo, 6mo, 1y, 2y, 5y, 10y, ytd, max\n",
        " period=\"10mo\",\n",
        " interval=\"1d\") #interval: The frequency of data. The valid intervals are 1m, 2m, 5m, 15m, 30m, 60m, 90m, 1h, 1d, 5d, 1wk, 1mo, 3mo ,\n",
        "pd.set_option(\"max_rows\", None)\n",
        "\n",
        "df = data[['Close']]\n",
        "\n",
        "df['EMA_10'] = df['Close'].ewm(span=10, adjust=False).mean()\n",
        "df['Volume'] = data[['Volume']]\n",
        "# df['SMA_10'] = df['Close'].rolling(window=10).mean()\n",
        "df = df.iloc[10:]\n",
        "\n",
        "predict_df = df.iloc[-60:]\n",
        "\n",
        "df.drop(df.tail(30).index,inplace = True)\n",
        "\n",
        "# # df.ta.ema(close='Close', length=10, append=True)\n",
        "\n",
        "X_train, X_test, y_train, y_test = train_test_split(df[['EMA_10', 'Volume']],df[['Close']], test_size=0.01)\n",
        "# Test set\n",
        "model = LinearRegression()\n",
        "# Train the model\n",
        "model.fit(X_train, y_train)\n",
        "# Use model to make predictions\n",
        "y_test = predict_df['Close']\n",
        "X_test = predict_df.drop(['Close'], axis = 1)\n",
        "\n",
        "y_pred = model.predict(X_test)\n",
        "lr_confidence = model.score(X_test, y_test)\n",
        "print(\"lr confidence: \", lr_confidence)\n",
        "\n",
        "df_compare = data[['Close']].tail(len(y_pred))\n",
        "df_compare[['Prediction']] = y_pred.tolist()\n",
        "# df_compare\n",
        "plt.plot(data['Close'])\n",
        "plt.plot(df_compare['Prediction'])\n",
        "# print(df_compare)\n",
        "plt.show()\n",
        "print(df_compare.tail(15))\n"
      ],
      "metadata": {
        "colab": {
          "base_uri": "https://localhost:8080/",
          "height": 612
        },
        "id": "2T7_3T47KbAU",
        "outputId": "3d57fcf4-9d55-4624-e367-b368ab7a263d"
      },
      "execution_count": 6,
      "outputs": [
        {
          "output_type": "stream",
          "name": "stdout",
          "text": [
            "\r[*********************100%***********************]  1 of 1 completed\n",
            "lr confidence:  0.7437230730773473\n"
          ]
        },
        {
          "output_type": "display_data",
          "data": {
            "text/plain": [
              "<Figure size 432x288 with 1 Axes>"
            ],
            "image/png": "[encoded data removed]"
          },
          "metadata": {
            "needs_background": "light"
          }
        },
        {
          "output_type": "stream",
          "name": "stdout",
          "text": [
            "                 Close  Prediction\n",
            "Date                              \n",
            "2022-08-01  891.830017  794.675307\n",
            "2022-08-02  901.760010  819.821418\n",
            "2022-08-03  922.190002  843.157343\n",
            "2022-08-04  925.900024  860.576890\n",
            "2022-08-05  864.510010  840.503581\n",
            "2022-08-08  871.270020  848.390775\n",
            "2022-08-09  850.000000  851.557136\n",
            "2022-08-10  883.070007  850.938244\n",
            "2022-08-11  859.890015  861.690331\n",
            "2022-08-12  900.090027  863.556166\n",
            "2022-08-15  927.960022  869.001261\n",
            "2022-08-16  919.690002  876.527492\n",
            "2022-08-17  911.989990  890.223134\n",
            "2022-08-18  908.609985  903.446480\n",
            "2022-08-19  890.000000  895.716893\n"
          ]
        }
      ]
    },
    {
      "cell_type": "code",
      "source": [
        "data = yf.download(tickers='TSLA', #period: The number of days/month of data required. The valid frequencies are 1d, 5d, 1mo, 3mo, 6mo, 1y, 2y, 5y, 10y, ytd, max\n",
        " period=\"10mo\",\n",
        " interval=\"1d\") #interval: The frequency of data. The valid intervals are 1m, 2m, 5m, 15m, 30m, 60m, 90m, 1h, 1d, 5d, 1wk, 1mo, 3mo ,\n",
        "pd.set_option(\"max_rows\", None)\n",
        "\n",
        "df = data[['Close']]\n",
        "scale = MinMaxScaler(feature_range = (0,1))\n",
        "scaled = scale.fit_transform(df)\n",
        "\n",
        "train_len = int(len(scaled) * 0.75)\n",
        "test = int(len(scaled)*0.25)\n",
        "train = scaled[0:train_len, :]\n",
        "test = scaled[train_len:len(scaled), :]\n",
        "\n"
      ],
      "metadata": {
        "id": "9fvVh5btPrxx",
        "colab": {
          "base_uri": "https://localhost:8080/"
        },
        "outputId": "5c445959-7178-46c6-a1be-de291ea7f25a"
      },
      "execution_count": 7,
      "outputs": [
        {
          "output_type": "stream",
          "name": "stdout",
          "text": [
            "\r[*********************100%***********************]  1 of 1 completed\n"
          ]
        },
        {
          "output_type": "execute_result",
          "data": {
            "text/plain": [
              "array([[0.39491482],\n",
              "       [0.44177815],\n",
              "       [0.46783546],\n",
              "       [0.65924383],\n",
              "       [0.64855834],\n",
              "       [0.68084748],\n",
              "       [0.74595766],\n",
              "       [0.80737844],\n",
              "       [0.96456989],\n",
              "       [0.90376397],\n",
              "       [0.97332772],\n",
              "       [1.        ],\n",
              "       [0.98700446],\n",
              "       [0.88870779],\n",
              "       [0.65698378],\n",
              "       [0.73085157],\n",
              "       [0.72347319],\n",
              "       [0.6734691 ],\n",
              "       [0.6401828 ],\n",
              "       [0.70888237],\n",
              "       [0.76584959],\n",
              "       [0.77809719],\n",
              "       [0.8457001 ],\n",
              "       [0.87862064],\n",
              "       [0.79911925],\n",
              "       [0.81070208],\n",
              "       [0.75406734],\n",
              "       [0.84558366],\n",
              "       [0.85849603],\n",
              "       [0.77580387],\n",
              "       [0.75852091],\n",
              "       [0.64280841],\n",
              "       [0.63290403],\n",
              "       [0.70393018],\n",
              "       [0.73253003],\n",
              "       [0.62424591],\n",
              "       [0.64623185],\n",
              "       [0.56211045],\n",
              "       [0.54898214],\n",
              "       [0.57803071],\n",
              "       [0.49648522],\n",
              "       [0.50587454],\n",
              "       [0.45164936],\n",
              "       [0.51577902],\n",
              "       [0.63267135],\n",
              "       [0.72927292],\n",
              "       [0.77404225],\n",
              "       [0.76495214],\n",
              "       [0.76116314],\n",
              "       [0.73482334],\n",
              "       [0.71228918],\n",
              "       [0.94992937],\n",
              "       [0.86652254],\n",
              "       [0.76437054],\n",
              "       [0.72545066],\n",
              "       [0.66273361],\n",
              "       [0.71451596],\n",
              "       [0.72495223],\n",
              "       [0.79444944],\n",
              "       [0.67037814],\n",
              "       [0.70037386],\n",
              "       [0.66863315],\n",
              "       [0.61070214],\n",
              "       [0.61173246],\n",
              "       [0.52470298],\n",
              "       [0.50160365],\n",
              "       [0.48232658],\n",
              "       [0.51391769],\n",
              "       [0.33392602],\n",
              "       [0.36259241],\n",
              "       [0.51277103],\n",
              "       [0.50368092],\n",
              "       [0.46115492],\n",
              "       [0.43702537],\n",
              "       [0.49050271],\n",
              "       [0.46394686],\n",
              "       [0.48830909],\n",
              "       [0.50492729],\n",
              "       [0.45931032],\n",
              "       [0.38527628],\n",
              "       [0.41146658],\n",
              "       [0.48902366],\n",
              "       [0.49061905],\n",
              "       [0.41244699],\n",
              "       [0.38025756],\n",
              "       [0.32134613],\n",
              "       [0.22580805],\n",
              "       [0.28684675],\n",
              "       [0.30196926],\n",
              "       [0.40260905],\n",
              "       [0.39253843],\n",
              "       [0.4183299 ],\n",
              "       [0.35085996],\n",
              "       [0.34919814],\n",
              "       [0.29317827],\n",
              "       [0.32611555],\n",
              "       [0.38356456],\n",
              "       [0.34921478],\n",
              "       [0.27783961],\n",
              "       [0.22968011],\n",
              "       [0.28870797],\n",
              "       [0.35242208],\n",
              "       [0.40455335],\n",
              "       [0.4607063 ],\n",
              "       [0.48691312],\n",
              "       [0.60792683],\n",
              "       [0.61645197],\n",
              "       [0.64106352],\n",
              "       [0.6356128 ],\n",
              "       [0.77055246],\n",
              "       [0.7833983 ],\n",
              "       [0.77412542],\n",
              "       [0.74688817],\n",
              "       [0.75850427],\n",
              "       [0.85964259],\n",
              "       [0.76958868],\n",
              "       [0.69397589],\n",
              "       [0.71308682],\n",
              "       [0.66029078],\n",
              "       [0.57793101],\n",
              "       [0.59624429],\n",
              "       [0.65510591],\n",
              "       [0.59300372],\n",
              "       [0.62506019],\n",
              "       [0.66471128],\n",
              "       [0.58004155],\n",
              "       [0.63252184],\n",
              "       [0.62632318],\n",
              "       [0.61464065],\n",
              "       [0.41256333],\n",
              "       [0.42102204],\n",
              "       [0.41437476],\n",
              "       [0.40315748],\n",
              "       [0.45663482],\n",
              "       [0.46712089],\n",
              "       [0.539194  ],\n",
              "       [0.4073453 ],\n",
              "       [0.3946656 ],\n",
              "       [0.26414623],\n",
              "       [0.28563355],\n",
              "       [0.17588702],\n",
              "       [0.16591611],\n",
              "       [0.23503122],\n",
              "       [0.15988369],\n",
              "       [0.22176984],\n",
              "       [0.1356876 ],\n",
              "       [0.13503947],\n",
              "       [0.05939351],\n",
              "       [0.07767353],\n",
              "       [0.        ],\n",
              "       [0.05091817],\n",
              "       [0.13223099],\n",
              "       [0.21847947],\n",
              "       [0.21620278],\n",
              "       [0.18647281],\n",
              "       [0.24402162],\n",
              "       [0.1252846 ]])"
            ]
          },
          "metadata": {},
          "execution_count": 7
        }
      ]
    }
  ]
}